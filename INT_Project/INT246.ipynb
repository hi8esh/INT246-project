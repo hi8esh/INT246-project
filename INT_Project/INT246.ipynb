{
 "cells": [
  {
   "cell_type": "code",
   "execution_count": 1,
   "metadata": {},
   "outputs": [
    {
     "data": {
      "text/html": [
       "<div>\n",
       "<style scoped>\n",
       "    .dataframe tbody tr th:only-of-type {\n",
       "        vertical-align: middle;\n",
       "    }\n",
       "\n",
       "    .dataframe tbody tr th {\n",
       "        vertical-align: top;\n",
       "    }\n",
       "\n",
       "    .dataframe thead th {\n",
       "        text-align: right;\n",
       "    }\n",
       "</style>\n",
       "<table border=\"1\" class=\"dataframe\">\n",
       "  <thead>\n",
       "    <tr style=\"text-align: right;\">\n",
       "      <th></th>\n",
       "      <th>Age</th>\n",
       "      <th>Delivery_Nbr</th>\n",
       "      <th>Delivery_Time</th>\n",
       "      <th>Blood_Pressure</th>\n",
       "      <th>Heart_Problem</th>\n",
       "      <th>Caesarian</th>\n",
       "    </tr>\n",
       "  </thead>\n",
       "  <tbody>\n",
       "    <tr>\n",
       "      <th>0</th>\n",
       "      <td>22</td>\n",
       "      <td>1</td>\n",
       "      <td>0</td>\n",
       "      <td>2</td>\n",
       "      <td>0</td>\n",
       "      <td>0</td>\n",
       "    </tr>\n",
       "    <tr>\n",
       "      <th>1</th>\n",
       "      <td>26</td>\n",
       "      <td>2</td>\n",
       "      <td>0</td>\n",
       "      <td>1</td>\n",
       "      <td>0</td>\n",
       "      <td>1</td>\n",
       "    </tr>\n",
       "    <tr>\n",
       "      <th>2</th>\n",
       "      <td>26</td>\n",
       "      <td>2</td>\n",
       "      <td>1</td>\n",
       "      <td>1</td>\n",
       "      <td>0</td>\n",
       "      <td>0</td>\n",
       "    </tr>\n",
       "    <tr>\n",
       "      <th>3</th>\n",
       "      <td>28</td>\n",
       "      <td>1</td>\n",
       "      <td>0</td>\n",
       "      <td>2</td>\n",
       "      <td>0</td>\n",
       "      <td>0</td>\n",
       "    </tr>\n",
       "    <tr>\n",
       "      <th>4</th>\n",
       "      <td>22</td>\n",
       "      <td>2</td>\n",
       "      <td>0</td>\n",
       "      <td>1</td>\n",
       "      <td>0</td>\n",
       "      <td>1</td>\n",
       "    </tr>\n",
       "  </tbody>\n",
       "</table>\n",
       "</div>"
      ],
      "text/plain": [
       "   Age  Delivery_Nbr  Delivery_Time  Blood_Pressure  Heart_Problem  Caesarian\n",
       "0   22             1              0               2              0          0\n",
       "1   26             2              0               1              0          1\n",
       "2   26             2              1               1              0          0\n",
       "3   28             1              0               2              0          0\n",
       "4   22             2              0               1              0          1"
      ]
     },
     "execution_count": 1,
     "metadata": {},
     "output_type": "execute_result"
    }
   ],
   "source": [
    "import pandas as pd\n",
    "headers = ['Age', 'Delivery_Nbr', 'Delivery_Time', 'Blood_Pressure', 'Heart_Problem', 'Caesarian']\n",
    "df = pd.read_csv(\"caesarian.csv\", names = headers, index_col=None, skiprows=15)\n",
    "df.head()"
   ]
  },
  {
   "cell_type": "code",
   "execution_count": 2,
   "metadata": {},
   "outputs": [],
   "source": [
    "X = df.iloc[:,:-1]\n",
    "X = X.values\n",
    "Y = df.iloc[:,-1].values"
   ]
  },
  {
   "cell_type": "code",
   "execution_count": 3,
   "metadata": {},
   "outputs": [
    {
     "name": "stdout",
     "output_type": "stream",
     "text": [
      "[[22  1  0  2  0]\n",
      " [26  2  0  1  0]\n",
      " [26  2  1  1  0]\n",
      " [28  1  0  2  0]\n",
      " [22  2  0  1  0]\n",
      " [26  1  1  0  0]\n",
      " [27  2  0  1  0]\n",
      " [32  3  0  1  0]\n",
      " [28  2  0  1  0]\n",
      " [27  1  1  1  0]\n",
      " [36  1  0  1  0]\n",
      " [33  1  1  0  0]\n",
      " [23  1  1  1  0]\n",
      " [20  1  0  1  1]\n",
      " [29  1  2  0  1]\n",
      " [25  1  2  0  0]\n",
      " [25  1  0  1  0]\n",
      " [20  1  2  2  0]\n",
      " [37  3  0  1  1]\n",
      " [24  1  2  0  1]\n",
      " [26  1  1  1  0]\n",
      " [33  2  0  0  1]\n",
      " [25  1  1  2  0]\n",
      " [27  1  0  0  1]\n",
      " [20  1  0  2  1]\n",
      " [18  1  0  1  0]\n",
      " [18  1  1  2  1]\n",
      " [30  1  0  1  0]\n",
      " [32  1  0  2  1]\n",
      " [26  2  1  1  1]\n",
      " [25  1  0  0  0]\n",
      " [40  1  0  1  1]\n",
      " [32  2  0  2  1]\n",
      " [27  2  0  1  1]\n",
      " [26  2  2  1  0]\n",
      " [28  3  0  2  0]\n",
      " [33  1  1  1  0]\n",
      " [31  2  2  1  0]\n",
      " [31  1  0  1  0]\n",
      " [26  1  2  0  1]\n",
      " [27  1  0  2  1]\n",
      " [19  1  0  1  0]\n",
      " [36  1  1  2  0]\n",
      " [22  1  0  1  0]\n",
      " [36  4  0  2  1]\n",
      " [28  3  0  1  1]\n",
      " [26  1  0  1  0]\n",
      " [32  2  0  2  1]\n",
      " [26  2  2  1  0]\n",
      " [29  2  0  0  1]\n",
      " [33  3  2  1  1]\n",
      " [21  2  1  0  1]\n",
      " [30  3  2  2  0]\n",
      " [35  1  1  0  0]\n",
      " [29  2  0  1  1]\n",
      " [25  2  0  1  0]\n",
      " [32  3  1  0  1]\n",
      " [21  1  0  0  0]\n",
      " [26  1  0  2  0]\n",
      " [30  2  1  2  1]\n",
      " [22  1  2  2  0]\n",
      " [19  1  0  1  0]\n",
      " [32  2  0  0  0]\n",
      " [32  2  0  1  1]\n",
      " [31  1  2  2  1]\n",
      " [35  2  0  1  0]\n",
      " [28  3  0  1  0]\n",
      " [29  2  0  1  1]\n",
      " [25  1  0  0  0]\n",
      " [27  2  2  0  0]\n",
      " [17  1  0  0  0]\n",
      " [29  1  2  0  1]\n",
      " [28  2  0  1  0]\n",
      " [32  3  0  1  1]\n",
      " [38  3  2  2  1]\n",
      " [27  2  1  1  0]\n",
      " [33  4  0  1  0]\n",
      " [29  2  1  2  0]\n",
      " [25  1  2  0  0]\n",
      " [24  2  2  1  0]]\n"
     ]
    }
   ],
   "source": [
    "print(X)"
   ]
  },
  {
   "cell_type": "code",
   "execution_count": 4,
   "metadata": {},
   "outputs": [
    {
     "name": "stdout",
     "output_type": "stream",
     "text": [
      "[0 1 0 0 1 0 0 1 0 1 0 1 0 0 1 0 0 1 1 1 0 1 0 1 1 0 1 0 1 0 0 1 1 1 1 1 0\n",
      " 0 0 1 1 1 1 1 1 1 0 1 0 1 0 1 0 0 1 0 1 1 1 1 0 1 1 1 0 1 1 0 1 0 1 1 0 0\n",
      " 1 0 1 1 1 0]\n"
     ]
    }
   ],
   "source": [
    "print(Y)"
   ]
  },
  {
   "cell_type": "code",
   "execution_count": 5,
   "metadata": {},
   "outputs": [],
   "source": [
    "from sklearn import preprocessing\n",
    "X1 = preprocessing.normalize(X)"
   ]
  },
  {
   "cell_type": "code",
   "execution_count": 6,
   "metadata": {},
   "outputs": [
    {
     "name": "stdout",
     "output_type": "stream",
     "text": [
      "[[0.99487439 0.04522156 0.         0.09044313 0.        ]\n",
      " [0.99632216 0.07664017 0.         0.03832008 0.        ]\n",
      " [0.99559146 0.07658396 0.03829198 0.03829198 0.        ]\n",
      " [0.9968264  0.03560094 0.         0.07120189 0.        ]\n",
      " [0.99487439 0.09044313 0.         0.04522156 0.        ]\n",
      " [0.99852398 0.03840477 0.03840477 0.         0.        ]\n",
      " [0.99658819 0.07382135 0.         0.03691067 0.        ]\n",
      " [0.99515266 0.09329556 0.         0.03109852 0.        ]\n",
      " [0.9968264  0.07120189 0.         0.03560094 0.        ]\n",
      " [0.99794872 0.03696106 0.03696106 0.03696106 0.        ]\n",
      " [0.99922929 0.02775637 0.         0.02775637 0.        ]\n",
      " [0.99908299 0.03027524 0.03027524 0.         0.        ]\n",
      " [0.99717646 0.0433555  0.0433555  0.0433555  0.        ]\n",
      " [0.99627096 0.04981355 0.         0.04981355 0.04981355]\n",
      " [0.99645179 0.03436041 0.06872081 0.         0.03436041]\n",
      " [0.99602384 0.03984095 0.07968191 0.         0.        ]\n",
      " [0.99840383 0.03993615 0.         0.03993615 0.        ]\n",
      " [0.98893635 0.04944682 0.09889364 0.09889364 0.        ]\n",
      " [0.99600652 0.08075729 0.         0.0269191  0.0269191 ]\n",
      " [0.99483201 0.04145133 0.08290267 0.         0.04145133]\n",
      " [0.99778842 0.03837648 0.03837648 0.03837648 0.        ]\n",
      " [0.99771219 0.06046741 0.         0.         0.0302337 ]\n",
      " [0.99523429 0.03980937 0.03980937 0.07961874 0.        ]\n",
      " [0.99863107 0.03698634 0.         0.         0.03698634]\n",
      " [0.99258333 0.04962917 0.         0.09925833 0.04962917]\n",
      " [0.9969278  0.05538488 0.         0.05538488 0.        ]\n",
      " [0.98936948 0.05496497 0.05496497 0.10992994 0.05496497]\n",
      " [0.99889074 0.03329636 0.         0.03329636 0.        ]\n",
      " [0.99708312 0.03115885 0.         0.0623177  0.03115885]\n",
      " [0.99486235 0.07652787 0.03826394 0.03826394 0.03826394]\n",
      " [0.99920096 0.03996804 0.         0.         0.        ]\n",
      " [0.99906382 0.0249766  0.         0.0249766  0.0249766 ]\n",
      " [0.99563423 0.06222714 0.         0.06222714 0.03111357]\n",
      " [0.99591    0.07377111 0.         0.03688556 0.03688556]\n",
      " [0.99340894 0.07641607 0.07641607 0.03820804 0.        ]\n",
      " [0.99181089 0.10626545 0.         0.07084363 0.        ]\n",
      " [0.99862543 0.03026138 0.03026138 0.03026138 0.        ]\n",
      " [0.99535001 0.06421613 0.06421613 0.03210806 0.        ]\n",
      " [0.99896104 0.03222455 0.         0.03222455 0.        ]\n",
      " [0.99559146 0.03829198 0.07658396 0.         0.03829198]\n",
      " [0.99591    0.03688556 0.         0.07377111 0.03688556]\n",
      " [0.99724137 0.05248639 0.         0.05248639 0.        ]\n",
      " [0.99769319 0.0277137  0.0277137  0.0554274  0.        ]\n",
      " [0.99794027 0.04536092 0.         0.04536092 0.        ]\n",
      " [0.9919953  0.1102217  0.         0.05511085 0.02755542]\n",
      " [0.99305766 0.10639904 0.         0.03546635 0.03546635]\n",
      " [0.99852398 0.03840477 0.         0.03840477 0.        ]\n",
      " [0.99563423 0.06222714 0.         0.06222714 0.03111357]\n",
      " [0.99340894 0.07641607 0.07641607 0.03820804 0.        ]\n",
      " [0.99704054 0.06876142 0.         0.         0.03438071]\n",
      " [0.99318329 0.09028939 0.06019293 0.03009646 0.03009646]\n",
      " [0.99326592 0.09459675 0.04729838 0.         0.04729838]\n",
      " [0.99068728 0.09906873 0.06604582 0.06604582 0.        ]\n",
      " [0.99918467 0.02854813 0.02854813 0.         0.        ]\n",
      " [0.99645179 0.06872081 0.         0.03436041 0.03436041]\n",
      " [0.99602384 0.07968191 0.         0.03984095 0.        ]\n",
      " [0.9946718  0.09325048 0.03108349 0.         0.03108349]\n",
      " [0.99886814 0.04756515 0.         0.         0.        ]\n",
      " [0.99632216 0.03832008 0.         0.07664017 0.        ]\n",
      " [0.99449032 0.06629935 0.03314968 0.06629935 0.03314968]\n",
      " [0.99083017 0.04503773 0.09007547 0.09007547 0.        ]\n",
      " [0.99724137 0.05248639 0.         0.05248639 0.        ]\n",
      " [0.99805258 0.06237829 0.         0.         0.        ]\n",
      " [0.99708312 0.0623177  0.         0.03115885 0.03115885]\n",
      " [0.99483734 0.03209153 0.06418305 0.06418305 0.03209153]\n",
      " [0.99796541 0.05702659 0.         0.0285133  0.        ]\n",
      " [0.99368282 0.10646602 0.         0.03548867 0.        ]\n",
      " [0.99645179 0.06872081 0.         0.03436041 0.03436041]\n",
      " [0.99920096 0.03996804 0.         0.         0.        ]\n",
      " [0.99455778 0.07367095 0.07367095 0.         0.        ]\n",
      " [0.99827437 0.05872202 0.         0.         0.        ]\n",
      " [0.99645179 0.03436041 0.06872081 0.         0.03436041]\n",
      " [0.9968264  0.07120189 0.         0.03560094 0.        ]\n",
      " [0.9946718  0.09325048 0.         0.03108349 0.03108349]\n",
      " [0.99382498 0.07845987 0.05230658 0.05230658 0.02615329]\n",
      " [0.99591    0.07377111 0.03688556 0.03688556 0.        ]\n",
      " [0.99228489 0.12027696 0.         0.03006924 0.        ]\n",
      " [0.99469179 0.06859943 0.03429972 0.06859943 0.        ]\n",
      " [0.99602384 0.03984095 0.07968191 0.         0.        ]\n",
      " [0.99227788 0.08268982 0.08268982 0.04134491 0.        ]]\n"
     ]
    }
   ],
   "source": [
    "print(X1)"
   ]
  },
  {
   "cell_type": "code",
   "execution_count": 7,
   "metadata": {},
   "outputs": [],
   "source": [
    "from sklearn.model_selection import train_test_split\n",
    "X_train, X_test, Y_train, Y_test = train_test_split(X1, Y, test_size=0.25, random_state=42)"
   ]
  },
  {
   "cell_type": "code",
   "execution_count": 8,
   "metadata": {},
   "outputs": [
    {
     "name": "stdout",
     "output_type": "stream",
     "text": [
      "(60, 5) (20, 5) (60,) (20,)\n"
     ]
    }
   ],
   "source": [
    "print(X_train.shape, X_test.shape, Y_train.shape, Y_test.shape)"
   ]
  },
  {
   "cell_type": "code",
   "execution_count": 9,
   "metadata": {},
   "outputs": [
    {
     "data": {
      "text/plain": [
       "60.0"
      ]
     },
     "execution_count": 9,
     "metadata": {},
     "output_type": "execute_result"
    }
   ],
   "source": [
    "#perceptron\n",
    "from sklearn.linear_model import Perceptron\n",
    "perceptron_model = Perceptron(tol=1e-3, random_state=0)\n",
    "perceptron_model.fit(X_train, Y_train)\n",
    "y_pred_perceptron = perceptron_model.predict(X_test)\n",
    "from sklearn import metrics\n",
    "metrics.accuracy_score(Y_test, y_pred_perceptron)*100"
   ]
  },
  {
   "cell_type": "code",
   "execution_count": 10,
   "metadata": {},
   "outputs": [
    {
     "data": {
      "text/plain": [
       "60.0"
      ]
     },
     "execution_count": 10,
     "metadata": {},
     "output_type": "execute_result"
    }
   ],
   "source": [
    "#SVM\n",
    "from sklearn import svm\n",
    "svm_model = svm.SVC(gamma='scale', decision_function_shape='ovo')\n",
    "svm_model.fit(X_train, Y_train)\n",
    "y_pred_svm = svm_model.predict(X_test)\n",
    "from sklearn import metrics\n",
    "metrics.accuracy_score(Y_test, y_pred_svm)*100"
   ]
  },
  {
   "cell_type": "code",
   "execution_count": 11,
   "metadata": {},
   "outputs": [
    {
     "name": "stderr",
     "output_type": "stream",
     "text": [
      "/home/sinchan/.local/lib/python3.6/site-packages/tensorflow/python/framework/dtypes.py:526: FutureWarning: Passing (type, 1) or '1type' as a synonym of type is deprecated; in a future version of numpy, it will be understood as (type, (1,)) / '(1,)type'.\n",
      "  _np_qint8 = np.dtype([(\"qint8\", np.int8, 1)])\n",
      "/home/sinchan/.local/lib/python3.6/site-packages/tensorflow/python/framework/dtypes.py:527: FutureWarning: Passing (type, 1) or '1type' as a synonym of type is deprecated; in a future version of numpy, it will be understood as (type, (1,)) / '(1,)type'.\n",
      "  _np_quint8 = np.dtype([(\"quint8\", np.uint8, 1)])\n",
      "/home/sinchan/.local/lib/python3.6/site-packages/tensorflow/python/framework/dtypes.py:528: FutureWarning: Passing (type, 1) or '1type' as a synonym of type is deprecated; in a future version of numpy, it will be understood as (type, (1,)) / '(1,)type'.\n",
      "  _np_qint16 = np.dtype([(\"qint16\", np.int16, 1)])\n",
      "/home/sinchan/.local/lib/python3.6/site-packages/tensorflow/python/framework/dtypes.py:529: FutureWarning: Passing (type, 1) or '1type' as a synonym of type is deprecated; in a future version of numpy, it will be understood as (type, (1,)) / '(1,)type'.\n",
      "  _np_quint16 = np.dtype([(\"quint16\", np.uint16, 1)])\n",
      "/home/sinchan/.local/lib/python3.6/site-packages/tensorflow/python/framework/dtypes.py:530: FutureWarning: Passing (type, 1) or '1type' as a synonym of type is deprecated; in a future version of numpy, it will be understood as (type, (1,)) / '(1,)type'.\n",
      "  _np_qint32 = np.dtype([(\"qint32\", np.int32, 1)])\n",
      "/home/sinchan/.local/lib/python3.6/site-packages/tensorflow/python/framework/dtypes.py:535: FutureWarning: Passing (type, 1) or '1type' as a synonym of type is deprecated; in a future version of numpy, it will be understood as (type, (1,)) / '(1,)type'.\n",
      "  np_resource = np.dtype([(\"resource\", np.ubyte, 1)])\n",
      "                                                                               \r"
     ]
    }
   ],
   "source": [
    "#LVQ\n",
    "import numpy as np\n",
    "from neupy import algorithms\n",
    "\n",
    "# X = np.array([[0, 0], [0, 1], [1, 0], [1, 1], [2, 2], [1, 2]])\n",
    "# y = np.array([0, 0, 0, 1, 1, 1])\n",
    "\n",
    "lvqnet = algorithms.LVQ(n_inputs=5, n_classes=2)\n",
    "lvqnet.train(X_train, Y_train, epochs=100)\n",
    "pred = lvqnet.predict(X_test)\n",
    "# lvqnet.predict(X_test)"
   ]
  },
  {
   "cell_type": "code",
   "execution_count": 12,
   "metadata": {},
   "outputs": [
    {
     "name": "stdout",
     "output_type": "stream",
     "text": [
      "accuracy:-  65.0\n"
     ]
    }
   ],
   "source": [
    "cnt = 0\n",
    "for i in range(len(Y_test)):\n",
    "    if Y_test[i] == pred[i]:\n",
    "        cnt+=1\n",
    "print(\"accuracy:- \", (cnt/len(Y_test))*100)"
   ]
  },
  {
   "cell_type": "code",
   "execution_count": 20,
   "metadata": {},
   "outputs": [],
   "source": [
    "#SOM\n",
    "\n",
    "from minisom import MiniSom\n",
    "import numpy as np\n",
    "\n",
    "data = X\n",
    "data = np.apply_along_axis(lambda x: x/np.linalg.norm(x), 1, data)\n",
    "labels = Y"
   ]
  },
  {
   "cell_type": "code",
   "execution_count": 21,
   "metadata": {},
   "outputs": [
    {
     "name": "stdout",
     "output_type": "stream",
     "text": [
      "[0 1 0 0 1 0 0 1 0 1 0 1 0 0 1 0 0 1 1 1 0 1 0 1 1 0 1 0 1 0 0 1 1 1 1 1 0\n",
      " 0 0 1 1 1 1 1 1 1 0 1 0 1 0 1 0 0 1 0 1 1 1 1 0 1 1 1 0 1 1 0 1 0 1 1 0 0\n",
      " 1 0 1 1 1 0]\n"
     ]
    }
   ],
   "source": [
    "print(labels)"
   ]
  },
  {
   "cell_type": "code",
   "execution_count": 22,
   "metadata": {},
   "outputs": [
    {
     "name": "stdout",
     "output_type": "stream",
     "text": [
      "Training...\n",
      "\n",
      "...ready!\n"
     ]
    },
    {
     "data": {
      "text/plain": [
       "(80, 5)"
      ]
     },
     "execution_count": 22,
     "metadata": {},
     "output_type": "execute_result"
    }
   ],
   "source": [
    "som = MiniSom(7, 7, 5, sigma=1.0, learning_rate=0.5)\n",
    "som.random_weights_init(data)\n",
    "print(\"Training...\")\n",
    "som.train_random(data, 100)  # random training\n",
    "print(\"\\n...ready!\")\n",
    "data.shape\n"
   ]
  },
  {
   "cell_type": "code",
   "execution_count": 23,
   "metadata": {},
   "outputs": [],
   "source": [
    "import numpy as np\n",
    "import matplotlib.pyplot as plt\n",
    "import pandas as pd\n",
    "%matplotlib inline"
   ]
  },
  {
   "cell_type": "code",
   "execution_count": 24,
   "metadata": {},
   "outputs": [
    {
     "data": {
      "text/plain": [
       "<matplotlib.colorbar.Colorbar at 0x7f9349870668>"
      ]
     },
     "execution_count": 24,
     "metadata": {},
     "output_type": "execute_result"
    },
    {
     "data": {
      "image/png": "[encoded data removed]",
      "text/plain": [
       "<Figure size 432x288 with 2 Axes>"
      ]
     },
     "metadata": {
      "needs_background": "light"
     },
     "output_type": "display_data"
    }
   ],
   "source": [
    "# Plotting the response for each pattern in the c-section dataset\n",
    "plt.bone()\n",
    "plt.pcolor(som.distance_map().T)  # plotting the distance map as background\n",
    "plt.colorbar()"
   ]
  },
  {
   "cell_type": "code",
   "execution_count": 25,
   "metadata": {},
   "outputs": [],
   "source": [
    "target = Y\n",
    "t = np.zeros(len(target), dtype=int)\n",
    "t[target == 0] = 0\n",
    "t[target == 1] = 1\n"
   ]
  },
  {
   "cell_type": "code",
   "execution_count": 26,
   "metadata": {},
   "outputs": [
    {
     "data": {
      "image/png": "[encoded data removed]",
      "text/plain": [
       "<Figure size 432x288 with 1 Axes>"
      ]
     },
     "metadata": {
      "needs_background": "light"
     },
     "output_type": "display_data"
    }
   ],
   "source": [
    "# use different colors and markers for each label\n",
    "markers = ['o', 's']\n",
    "colors = ['r', 'g'] \n",
    "for cnt, xx in enumerate(X):\n",
    "    w = som.winner(xx)  # getting the winner\n",
    "    # palce a marker on the winning position for the sample xx\n",
    "    plt.plot(w[0]+.5, w[1]+.5, markers[t[cnt]], markerfacecolor='None',\n",
    "             markeredgecolor=colors[t[cnt]], markersize=12, markeredgewidth=2)\n",
    "    #print(t[cnt])\n",
    "plt.axis([0, 7, 0, 7])\n",
    "plt.show()"
   ]
  },
  {
   "cell_type": "code",
   "execution_count": null,
   "metadata": {},
   "outputs": [],
   "source": []
  }
 ],
 "metadata": {
  "kernelspec": {
   "display_name": "Python 3",
   "language": "python",
   "name": "python3"
  },
  "language_info": {
   "codemirror_mode": {
    "name": "ipython",
    "version": 3
   },
   "file_extension": ".py",
   "mimetype": "text/x-python",
   "name": "python",
   "nbconvert_exporter": "python",
   "pygments_lexer": "ipython3",
   "version": "3.6.9"
  }
 },
 "nbformat": 4,
 "nbformat_minor": 4
}
